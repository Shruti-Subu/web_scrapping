{
  "nbformat": 4,
  "nbformat_minor": 0,
  "metadata": {
    "colab": {
      "name": "Untitled13.ipynb",
      "provenance": [],
      "authorship_tag": "ABX9TyM4ZCkjhw4DURvofewQvyh3",
      "include_colab_link": true
    },
    "kernelspec": {
      "name": "python3",
      "display_name": "Python 3"
    },
    "language_info": {
      "name": "python"
    }
  },
  "cells": [
    {
      "cell_type": "markdown",
      "metadata": {
        "id": "view-in-github",
        "colab_type": "text"
      },
      "source": [
        "<a href=\"https://colab.research.google.com/github/Shruti-Subu/web_scrapping/blob/main/Untitled13.ipynb\" target=\"_parent\"><img src=\"https://colab.research.google.com/assets/colab-badge.svg\" alt=\"Open In Colab\"/></a>"
      ]
    },
    {
      "cell_type": "code",
      "metadata": {
        "id": "VEpnoe2Safea"
      },
      "source": [
        "from selenium import webdriver\n",
        "from bs4 import  BeautifulSoup\n",
        "from selenium.webdriver.support.ui import Select\n",
        "\n",
        "from selenium.webdriver.common.by import By\n",
        "from selenium.webdriver.support.ui import WebDriverWait\n",
        "from selenium.webdriver.support import expected_conditions as EC\n",
        "import time\n",
        "\n",
        "\n",
        "import pandas as pd\n",
        "from selenium.webdriver.common.keys import Keys\n",
        "import os\n",
        "import time\n",
        "import csv\n",
        "import re"
      ],
      "execution_count": 4,
      "outputs": []
    },
    {
      "cell_type": "code",
      "metadata": {
        "colab": {
          "base_uri": "https://localhost:8080/"
        },
        "id": "PAl9DxdsbCP6",
        "outputId": "b08e998b-dd4c-495c-c7a8-3fe9fae1b23d"
      },
      "source": [
        "pip install selenium"
      ],
      "execution_count": 2,
      "outputs": [
        {
          "output_type": "stream",
          "text": [
            "Collecting selenium\n",
            "  Downloading selenium-3.141.0-py2.py3-none-any.whl (904 kB)\n",
            "\u001b[?25l\r\u001b[K     |▍                               | 10 kB 26.1 MB/s eta 0:00:01\r\u001b[K     |▊                               | 20 kB 31.7 MB/s eta 0:00:01\r\u001b[K     |█                               | 30 kB 36.4 MB/s eta 0:00:01\r\u001b[K     |█▌                              | 40 kB 36.3 MB/s eta 0:00:01\r\u001b[K     |█▉                              | 51 kB 36.8 MB/s eta 0:00:01\r\u001b[K     |██▏                             | 61 kB 37.4 MB/s eta 0:00:01\r\u001b[K     |██▌                             | 71 kB 28.9 MB/s eta 0:00:01\r\u001b[K     |███                             | 81 kB 30.1 MB/s eta 0:00:01\r\u001b[K     |███▎                            | 92 kB 31.6 MB/s eta 0:00:01\r\u001b[K     |███▋                            | 102 kB 32.1 MB/s eta 0:00:01\r\u001b[K     |████                            | 112 kB 32.1 MB/s eta 0:00:01\r\u001b[K     |████▍                           | 122 kB 32.1 MB/s eta 0:00:01\r\u001b[K     |████▊                           | 133 kB 32.1 MB/s eta 0:00:01\r\u001b[K     |█████                           | 143 kB 32.1 MB/s eta 0:00:01\r\u001b[K     |█████▍                          | 153 kB 32.1 MB/s eta 0:00:01\r\u001b[K     |█████▉                          | 163 kB 32.1 MB/s eta 0:00:01\r\u001b[K     |██████▏                         | 174 kB 32.1 MB/s eta 0:00:01\r\u001b[K     |██████▌                         | 184 kB 32.1 MB/s eta 0:00:01\r\u001b[K     |██████▉                         | 194 kB 32.1 MB/s eta 0:00:01\r\u001b[K     |███████▎                        | 204 kB 32.1 MB/s eta 0:00:01\r\u001b[K     |███████▋                        | 215 kB 32.1 MB/s eta 0:00:01\r\u001b[K     |████████                        | 225 kB 32.1 MB/s eta 0:00:01\r\u001b[K     |████████▎                       | 235 kB 32.1 MB/s eta 0:00:01\r\u001b[K     |████████▊                       | 245 kB 32.1 MB/s eta 0:00:01\r\u001b[K     |█████████                       | 256 kB 32.1 MB/s eta 0:00:01\r\u001b[K     |█████████▍                      | 266 kB 32.1 MB/s eta 0:00:01\r\u001b[K     |█████████▉                      | 276 kB 32.1 MB/s eta 0:00:01\r\u001b[K     |██████████▏                     | 286 kB 32.1 MB/s eta 0:00:01\r\u001b[K     |██████████▌                     | 296 kB 32.1 MB/s eta 0:00:01\r\u001b[K     |██████████▉                     | 307 kB 32.1 MB/s eta 0:00:01\r\u001b[K     |███████████▎                    | 317 kB 32.1 MB/s eta 0:00:01\r\u001b[K     |███████████▋                    | 327 kB 32.1 MB/s eta 0:00:01\r\u001b[K     |████████████                    | 337 kB 32.1 MB/s eta 0:00:01\r\u001b[K     |████████████▎                   | 348 kB 32.1 MB/s eta 0:00:01\r\u001b[K     |████████████▊                   | 358 kB 32.1 MB/s eta 0:00:01\r\u001b[K     |█████████████                   | 368 kB 32.1 MB/s eta 0:00:01\r\u001b[K     |█████████████▍                  | 378 kB 32.1 MB/s eta 0:00:01\r\u001b[K     |█████████████▊                  | 389 kB 32.1 MB/s eta 0:00:01\r\u001b[K     |██████████████▏                 | 399 kB 32.1 MB/s eta 0:00:01\r\u001b[K     |██████████████▌                 | 409 kB 32.1 MB/s eta 0:00:01\r\u001b[K     |██████████████▉                 | 419 kB 32.1 MB/s eta 0:00:01\r\u001b[K     |███████████████▏                | 430 kB 32.1 MB/s eta 0:00:01\r\u001b[K     |███████████████▋                | 440 kB 32.1 MB/s eta 0:00:01\r\u001b[K     |████████████████                | 450 kB 32.1 MB/s eta 0:00:01\r\u001b[K     |████████████████▎               | 460 kB 32.1 MB/s eta 0:00:01\r\u001b[K     |████████████████▋               | 471 kB 32.1 MB/s eta 0:00:01\r\u001b[K     |█████████████████               | 481 kB 32.1 MB/s eta 0:00:01\r\u001b[K     |█████████████████▍              | 491 kB 32.1 MB/s eta 0:00:01\r\u001b[K     |█████████████████▊              | 501 kB 32.1 MB/s eta 0:00:01\r\u001b[K     |██████████████████▏             | 512 kB 32.1 MB/s eta 0:00:01\r\u001b[K     |██████████████████▌             | 522 kB 32.1 MB/s eta 0:00:01\r\u001b[K     |██████████████████▉             | 532 kB 32.1 MB/s eta 0:00:01\r\u001b[K     |███████████████████▏            | 542 kB 32.1 MB/s eta 0:00:01\r\u001b[K     |███████████████████▋            | 552 kB 32.1 MB/s eta 0:00:01\r\u001b[K     |████████████████████            | 563 kB 32.1 MB/s eta 0:00:01\r\u001b[K     |████████████████████▎           | 573 kB 32.1 MB/s eta 0:00:01\r\u001b[K     |████████████████████▋           | 583 kB 32.1 MB/s eta 0:00:01\r\u001b[K     |█████████████████████           | 593 kB 32.1 MB/s eta 0:00:01\r\u001b[K     |█████████████████████▍          | 604 kB 32.1 MB/s eta 0:00:01\r\u001b[K     |█████████████████████▊          | 614 kB 32.1 MB/s eta 0:00:01\r\u001b[K     |██████████████████████          | 624 kB 32.1 MB/s eta 0:00:01\r\u001b[K     |██████████████████████▌         | 634 kB 32.1 MB/s eta 0:00:01\r\u001b[K     |██████████████████████▉         | 645 kB 32.1 MB/s eta 0:00:01\r\u001b[K     |███████████████████████▏        | 655 kB 32.1 MB/s eta 0:00:01\r\u001b[K     |███████████████████████▌        | 665 kB 32.1 MB/s eta 0:00:01\r\u001b[K     |████████████████████████        | 675 kB 32.1 MB/s eta 0:00:01\r\u001b[K     |████████████████████████▎       | 686 kB 32.1 MB/s eta 0:00:01\r\u001b[K     |████████████████████████▋       | 696 kB 32.1 MB/s eta 0:00:01\r\u001b[K     |█████████████████████████       | 706 kB 32.1 MB/s eta 0:00:01\r\u001b[K     |█████████████████████████▍      | 716 kB 32.1 MB/s eta 0:00:01\r\u001b[K     |█████████████████████████▊      | 727 kB 32.1 MB/s eta 0:00:01\r\u001b[K     |██████████████████████████      | 737 kB 32.1 MB/s eta 0:00:01\r\u001b[K     |██████████████████████████▍     | 747 kB 32.1 MB/s eta 0:00:01\r\u001b[K     |██████████████████████████▉     | 757 kB 32.1 MB/s eta 0:00:01\r\u001b[K     |███████████████████████████▏    | 768 kB 32.1 MB/s eta 0:00:01\r\u001b[K     |███████████████████████████▌    | 778 kB 32.1 MB/s eta 0:00:01\r\u001b[K     |████████████████████████████    | 788 kB 32.1 MB/s eta 0:00:01\r\u001b[K     |████████████████████████████▎   | 798 kB 32.1 MB/s eta 0:00:01\r\u001b[K     |████████████████████████████▋   | 808 kB 32.1 MB/s eta 0:00:01\r\u001b[K     |█████████████████████████████   | 819 kB 32.1 MB/s eta 0:00:01\r\u001b[K     |█████████████████████████████▍  | 829 kB 32.1 MB/s eta 0:00:01\r\u001b[K     |█████████████████████████████▊  | 839 kB 32.1 MB/s eta 0:00:01\r\u001b[K     |██████████████████████████████  | 849 kB 32.1 MB/s eta 0:00:01\r\u001b[K     |██████████████████████████████▍ | 860 kB 32.1 MB/s eta 0:00:01\r\u001b[K     |██████████████████████████████▉ | 870 kB 32.1 MB/s eta 0:00:01\r\u001b[K     |███████████████████████████████▏| 880 kB 32.1 MB/s eta 0:00:01\r\u001b[K     |███████████████████████████████▌| 890 kB 32.1 MB/s eta 0:00:01\r\u001b[K     |███████████████████████████████▉| 901 kB 32.1 MB/s eta 0:00:01\r\u001b[K     |████████████████████████████████| 904 kB 32.1 MB/s \n",
            "\u001b[?25hRequirement already satisfied: urllib3 in /usr/local/lib/python3.7/dist-packages (from selenium) (1.24.3)\n",
            "Installing collected packages: selenium\n",
            "Successfully installed selenium-3.141.0\n"
          ],
          "name": "stdout"
        }
      ]
    },
    {
      "cell_type": "code",
      "metadata": {
        "id": "OQo0CEQwanNL"
      },
      "source": [
        "driver=web"
      ],
      "execution_count": null,
      "outputs": []
    }
  ]
}